{
 "cells": [
  {
   "cell_type": "code",
   "execution_count": null,
   "metadata": {},
   "outputs": [],
   "source": [
    "for crypto, df in df_dict.items():\n",
    "    data = df['C'].values\n",
    "    \n",
    "    ses_forecast_test = []\n",
    "    for t in range(config['MODEL']['WINDOW_SIZE'], len(data) - config['MODEL']['PREDICT_STEP']):\n",
    "        train = data[t-config['MODEL']['WINDOW_SIZE']:t]\n",
    "        ses_model_train = SimpleExpSmoothing(train).fit(smoothing_level=0.2, optimized=False)\n",
    "        pred = ses_model_train.forecast(config['MODEL']['PREDICT_STEP'])[-1]\n",
    "        ses_forecast_test.append(pred)\n",
    "    plt.figure(figsize=(12, 6))\n",
    "    plt.plot(data[config['MODEL']['PREDICT_STEP'] + config['MODEL']['WINDOW_SIZE']:], label='True Prices', color='blue')\n",
    "    plt.plot(ses_forecast_test, label='Forecasted Prices', color='red')\n",
    "    plt.title(crypto + ': Simple Exponential Smoothing Test Set Forecast')\n",
    "    plt.xlabel('Date')\n",
    "    plt.ylabel('Price')\n",
    "    plt.legend()\n",
    "    plt.show()\n",
    "    print(crypto, eval(data[config['MODEL']['PREDICT_STEP'] + config['MODEL']['WINDOW_SIZE']:], ses_forecast_test))\n"
   ]
  }
 ],
 "metadata": {
  "language_info": {
   "name": "python"
  }
 },
 "nbformat": 4,
 "nbformat_minor": 2
}
