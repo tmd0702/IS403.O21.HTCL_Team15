{
 "cells": [
  {
   "cell_type": "code",
   "execution_count": null,
   "metadata": {},
   "outputs": [],
   "source": [
    "import statsmodels.api as sm\n",
    "\n",
    "def exponential_smoothing(data, alpha, beta, periods):\n",
    "    n = len(data)\n",
    "    smoothed_values = [data[0]]\n",
    "    for i in range(1, n):\n",
    "        smoothed = alpha * data[i] + (1 - alpha) * (smoothed_values[i - 1] + beta * (data[i] - smoothed_values[i - 1]))\n",
    "        smoothed_values.append(smoothed)\n",
    "    forecasted_values = []\n",
    "    for i in range(1, periods + 1):\n",
    "        forecasted = alpha * data[-1] + (1 - alpha) * (smoothed_values[-1] + beta * (data[-1] - smoothed_values[-1]))\n",
    "        forecasted_values.append(forecasted)\n",
    "        smoothed_values.append(forecasted)\n",
    "    return forecasted_values\n",
    "for crypto, df in df_dict.items():\n",
    "    data = df['C'].values\n",
    "    returns = (df['C'] - df['C'].shift(1)) / df['C'].shift(1)\n",
    "    returns = returns.dropna()\n",
    "\n",
    "    Y = returns\n",
    "    X = df['C'].shift(1).dropna()\n",
    "    \n",
    "    Y = Y.loc[X.index]\n",
    "    X = sm.add_constant(X)\n",
    "    model = sm.OLS(Y, X).fit()\n",
    "    alpha = model.params[0]\n",
    "    beta = model.params[1]\n",
    "\n",
    "    hw_forecast_test = []\n",
    "    for t in range(config['MODEL']['WINDOW_SIZE'], len(data) - config['MODEL']['PREDICT_STEP']):\n",
    "        train = data[t-config['MODEL']['WINDOW_SIZE']:t]\n",
    "        pred = exponential_smoothing(train, alpha, beta, config['MODEL']['PREDICT_STEP'])[-1]\n",
    "        hw_forecast_test.append(pred)\n",
    "    plt.figure(figsize=(12, 6))\n",
    "    plt.plot(data[config['MODEL']['WINDOW_SIZE'] + config['MODEL']['PREDICT_STEP']:], label='True Prices', color='blue')\n",
    "    plt.plot(hw_forecast_test, label='Forecasted Prices', color='red')\n",
    "    plt.title(crypto + ': HW Exponential Smoothing Test Set Forecast')\n",
    "    plt.xlabel('Date')\n",
    "    plt.ylabel('Price')\n",
    "    plt.legend()\n",
    "    plt.show()\n",
    "    print(crypto, eval(data[config['MODEL']['WINDOW_SIZE'] + config['MODEL']['PREDICT_STEP']:], hw_forecast_test))\n"
   ]
  }
 ],
 "metadata": {
  "language_info": {
   "name": "python"
  }
 },
 "nbformat": 4,
 "nbformat_minor": 2
}
