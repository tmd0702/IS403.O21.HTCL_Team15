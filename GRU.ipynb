{
 "cells": [
  {
   "cell_type": "code",
   "execution_count": null,
   "metadata": {},
   "outputs": [],
   "source": [
    "from tensorflow.keras.models import Sequential\n",
    "from tensorflow.keras.layers import Dense, GRU\n",
    "\n",
    "gru_models = {}\n",
    "gru_evals = {}\n",
    "for crypto in splitted_data.keys():\n",
    "    crypto_evals = {}\n",
    "    crypto_models = {}\n",
    "    for i in range(len(scenarios)):\n",
    "        train_df = splitted_data[crypto]['trains'][i]\n",
    "        test_df = splitted_data[crypto]['tests'][i]\n",
    "        X_train, y_train = prepare_dl_data(train_df)\n",
    "        X_test, y_test = prepare_dl_data(test_df)\n",
    "        gru_model = Sequential()\n",
    "        gru_model.add(GRU(64, input_shape=((X_train.shape[1], X_train.shape[2]))))\n",
    "        gru_model.add(Dense(1))\n",
    "        gru_model.compile(optimizer='adam', loss='mean_squared_error')\n",
    "        early_stopping = EarlyStopping(monitor='val_loss', patience=10, restore_best_weights=True)\n",
    "        gru_history = gru_model.fit(X_train, y_train, epochs=50, batch_size=32, validation_data=(X_test, y_test), callbacks=[early_stopping])\n",
    "        predictions_gru = gru_model.predict(X_test)\n",
    "        crypto_models[scenarios[i]] = gru_model\n",
    "        crypto_evals[scenarios[i]] = eval(y_test, predictions_gru)\n",
    "        forecast_plot('GRU', y_train, predictions, forecast_dl(crypto, 90, gru_model), crypto,scenarios[i], save=True)\n",
    "    gru_evals[crypto] = crypto_evals\n",
    "    gru_models[crypto] = crypto_models\n",
    "    print(f'GRU | {crypto}')\n",
    "display(pd.DataFrame(gru_evals))\n",
    "pd.DataFrame(gru_evals).to_csv('GRU_evals.csv')"
   ]
  }
 ],
 "metadata": {
  "language_info": {
   "name": "python"
  }
 },
 "nbformat": 4,
 "nbformat_minor": 2
}
