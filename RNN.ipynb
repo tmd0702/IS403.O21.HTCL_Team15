from tensorflow.keras.layers import Dense, SimpleRNN

from tensorflow.keras.layers import LSTM
rnn_models = {}
rnn_evals = {}
for crypto in splitted_data.keys():
    crypto_models = {}
    crypto_evals = {}
    for i in range(len(scenarios)):
        train_df = splitted_data[crypto]['trains'][i]
        test_df = splitted_data[crypto]['tests'][i]
        X_train, y_train = prepare_dl_data(train_df)
        X_test, y_test = prepare_dl_data(test_df)
        rnn_model = Sequential()
        rnn_model.add(SimpleRNN(50, input_shape=(X_train.shape[1], X_train.shape[2])))
        rnn_model.add(Dense(1))
        rnn_model.compile(loss='mean_squared_error',optimizer='adam')
        early_stopping = EarlyStopping(monitor='val_loss', patience=10, restore_best_weights=True)
        rnn_history = rnn_model.fit(X_train, y_train, epochs=50, batch_size=32, validation_data=(X_test, y_test), callbacks=[early_stopping])
        predictions_rnn = rnn_model.predict(X_test)
        crypto_evals[scenarios[i]] = eval(y_test, predictions_rnn)
        crypto_models[scenarios[i]] = rnn_model
    
    rnn_models[crypto] = crypto_models
    rnn_evals[crypto] = crypto_evals
display(pd.DataFrame(rnn_evals))
pd.DataFrame(rnn_evals).to_csv('RNN_evals.csv')


