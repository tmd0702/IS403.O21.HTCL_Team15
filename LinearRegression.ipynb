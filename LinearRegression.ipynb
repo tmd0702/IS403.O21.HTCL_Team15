{
 "cells": [
  {
   "cell_type": "code",
   "execution_count": null,
   "metadata": {},
   "outputs": [],
   "source": [
    "from sklearn.linear_model import LinearRegression\n",
    "from sklearn.metrics import mean_squared_error, r2_score\n",
    "import matplotlib.pyplot as plt\n",
    "\n",
    "lr_models = {}\n",
    "lr_evals = {}\n",
    "for crypto in splitted_data.keys():\n",
    "    crypto_models = {}\n",
    "    crypto_evals = {}\n",
    "    for i in range(len(scenarios)):\n",
    "        train_df = splitted_data[crypto]['trains'][i]\n",
    "        test_df = splitted_data[crypto]['tests'][i]\n",
    "        \n",
    "        X_train_lr, y_train_lr = prepare_ml_data(train_df)\n",
    "        X_test_lr, y_test_lr = prepare_ml_data(test_df)\n",
    "        lr_model = LinearRegression()\n",
    "        lr_model.fit(X_train_lr, y_train_lr)\n",
    "        \n",
    "        predictions_lr = lr_model.predict(X_test_lr.reshape(X_test_lr.shape[0], -1))\n",
    "        \n",
    "        crypto_models[scenarios[i]] = lr_model\n",
    "        crypto_evals[scenarios[i]] = eval(y_test_lr, predictions_lr)\n",
    "        forecast_plot('Linear Regression', y_train_lr, predictions_lr, forecast_ml(crypto, 90, lr_model), crypto,scenarios[i], save=True)\n",
    "    lr_evals[crypto] = crypto_evals\n",
    "    lr_models[crypto] = crypto_models\n",
    "display(pd.DataFrame(lr_evals))\n",
    "pd.DataFrame(lr_evals).to_csv(\"LinearRegression_evals.csv\")"
   ]
  }
 ],
 "metadata": {
  "language_info": {
   "name": "python"
  }
 },
 "nbformat": 4,
 "nbformat_minor": 2
}
