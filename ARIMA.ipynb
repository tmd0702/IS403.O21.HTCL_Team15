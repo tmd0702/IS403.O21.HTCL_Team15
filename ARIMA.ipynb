{
 "cells": [
  {
   "cell_type": "code",
   "execution_count": null,
   "metadata": {},
   "outputs": [],
   "source": [
    "from statsmodels.tsa.arima.model import ARIMA\n",
    "from pmdarima import auto_arima\n",
    "arima_models = {}\n",
    "arima_evals = {}\n",
    "for crypto in splitted_data.keys():\n",
    "    crypto_models = {}\n",
    "    crypto_evals = {}\n",
    "    for i in range(len(scenarios)):\n",
    "        train_df = splitted_data[crypto]['trains'][i]\n",
    "        test_df = splitted_data[crypto]['tests'][i]\n",
    "        \n",
    "        X_train, y_train = prepare_ml_data(train_df)\n",
    "        X_test, y_test = prepare_ml_data(test_df)\n",
    "\n",
    "        arima_model = auto_arima(y_train, seasonal=True, stepwise=True, trace=True)\n",
    "        all_predictions = arima_model.predict(n_periods=len(test_df) + 90 * 24)\n",
    "        predictions = all_predictions[:len(test_df)]\n",
    "        f90_prices = all_predictions[len(test_df):]\n",
    "        crypto_evals[scenarios[i]] = eval(y_test, predictions)\n",
    "        crypto_models[scenarios[i]] = arima_model\n",
    "        forecast_plot('ARIMA', y_train, predictions, f90_prices, crypto,scenarios[i], save=True)\n",
    "    arima_models[crypto] = crypto_models\n",
    "    arima_evals[crypto] = crypto_evals\n",
    "display(pd.DataFrame(arima_evals))\n",
    "pd.DataFrame(arima_evals).to_csv('ARIMA_evals.csv')"
   ]
  }
 ],
 "metadata": {
  "language_info": {
   "name": "python"
  }
 },
 "nbformat": 4,
 "nbformat_minor": 2
}
